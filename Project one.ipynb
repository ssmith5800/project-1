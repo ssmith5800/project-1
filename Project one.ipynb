{
 "cells": [
  {
   "cell_type": "code",
   "execution_count": 71,
   "metadata": {},
   "outputs": [
    {
     "name": "stdout",
     "output_type": "stream",
     "text": [
      "Requirement already satisfied: spotipy in c:\\users\\sams computer\\anaconda3\\lib\\site-packages (2.16.1)\n",
      "Requirement already satisfied: six>=1.10.0 in c:\\users\\sams computer\\anaconda3\\lib\\site-packages (from spotipy) (1.15.0)\n",
      "Requirement already satisfied: requests>=2.20.0 in c:\\users\\sams computer\\anaconda3\\lib\\site-packages (from spotipy) (2.24.0)\n",
      "Requirement already satisfied: urllib3!=1.25.0,!=1.25.1,<1.26,>=1.21.1 in c:\\users\\sams computer\\anaconda3\\lib\\site-packages (from requests>=2.20.0->spotipy) (1.25.9)\n",
      "Requirement already satisfied: certifi>=2017.4.17 in c:\\users\\sams computer\\anaconda3\\lib\\site-packages (from requests>=2.20.0->spotipy) (2020.6.20)\n",
      "Requirement already satisfied: chardet<4,>=3.0.2 in c:\\users\\sams computer\\anaconda3\\lib\\site-packages (from requests>=2.20.0->spotipy) (3.0.4)\n",
      "Requirement already satisfied: idna<3,>=2.5 in c:\\users\\sams computer\\anaconda3\\lib\\site-packages (from requests>=2.20.0->spotipy) (2.10)\n"
     ]
    }
   ],
   "source": [
    "!pip install spotipy\n",
    "\n",
    "import pandas as pd\n",
    "import numpy as np\n",
    "import requests\n",
    "import json\n",
    "import spotipy\n",
    "from pprint import pprint\n",
    "from spotipy.oauth2 import SpotifyClientCredentials\n",
    "import pandas as pd\n",
    "import matplotlib.pyplot as plt\n",
    "import scipy.stats as st\n",
    "from scipy.stats import linregress\n"
   ]
  },
  {
   "cell_type": "code",
   "execution_count": 72,
   "metadata": {},
   "outputs": [
    {
     "data": {
      "text/html": [
       "<div>\n",
       "<style scoped>\n",
       "    .dataframe tbody tr th:only-of-type {\n",
       "        vertical-align: middle;\n",
       "    }\n",
       "\n",
       "    .dataframe tbody tr th {\n",
       "        vertical-align: top;\n",
       "    }\n",
       "\n",
       "    .dataframe thead th {\n",
       "        text-align: right;\n",
       "    }\n",
       "</style>\n",
       "<table border=\"1\" class=\"dataframe\">\n",
       "  <thead>\n",
       "    <tr style=\"text-align: right;\">\n",
       "      <th></th>\n",
       "      <th>2019_bb_rank</th>\n",
       "      <th>artist_name</th>\n",
       "    </tr>\n",
       "  </thead>\n",
       "  <tbody>\n",
       "    <tr>\n",
       "      <th>0</th>\n",
       "      <td>1</td>\n",
       "      <td>Post Malone</td>\n",
       "    </tr>\n",
       "    <tr>\n",
       "      <th>1</th>\n",
       "      <td>2</td>\n",
       "      <td>Ariana Grande</td>\n",
       "    </tr>\n",
       "    <tr>\n",
       "      <th>2</th>\n",
       "      <td>3</td>\n",
       "      <td>Billie Eilish</td>\n",
       "    </tr>\n",
       "    <tr>\n",
       "      <th>3</th>\n",
       "      <td>4</td>\n",
       "      <td>Khalid</td>\n",
       "    </tr>\n",
       "    <tr>\n",
       "      <th>4</th>\n",
       "      <td>5</td>\n",
       "      <td>Drake</td>\n",
       "    </tr>\n",
       "  </tbody>\n",
       "</table>\n",
       "</div>"
      ],
      "text/plain": [
       "   2019_bb_rank    artist_name\n",
       "0             1    Post Malone\n",
       "1             2  Ariana Grande\n",
       "2             3  Billie Eilish\n",
       "3             4         Khalid\n",
       "4             5          Drake"
      ]
     },
     "execution_count": 72,
     "metadata": {},
     "output_type": "execute_result"
    }
   ],
   "source": [
    "test_df = pd.read_csv(\"Final_2019_Chart.csv\")\n",
    "test_df.head()"
   ]
  },
  {
   "cell_type": "code",
   "execution_count": 73,
   "metadata": {},
   "outputs": [
    {
     "data": {
      "text/html": [
       "<div>\n",
       "<style scoped>\n",
       "    .dataframe tbody tr th:only-of-type {\n",
       "        vertical-align: middle;\n",
       "    }\n",
       "\n",
       "    .dataframe tbody tr th {\n",
       "        vertical-align: top;\n",
       "    }\n",
       "\n",
       "    .dataframe thead th {\n",
       "        text-align: right;\n",
       "    }\n",
       "</style>\n",
       "<table border=\"1\" class=\"dataframe\">\n",
       "  <thead>\n",
       "    <tr style=\"text-align: right;\">\n",
       "      <th></th>\n",
       "      <th>2019_bb_rank</th>\n",
       "      <th>artist_name</th>\n",
       "      <th>name2</th>\n",
       "      <th>genres</th>\n",
       "      <th>popularity</th>\n",
       "      <th>uri_spotify</th>\n",
       "      <th>followers</th>\n",
       "    </tr>\n",
       "  </thead>\n",
       "  <tbody>\n",
       "    <tr>\n",
       "      <th>0</th>\n",
       "      <td>1</td>\n",
       "      <td>Post Malone</td>\n",
       "      <td></td>\n",
       "      <td></td>\n",
       "      <td></td>\n",
       "      <td></td>\n",
       "      <td></td>\n",
       "    </tr>\n",
       "    <tr>\n",
       "      <th>1</th>\n",
       "      <td>2</td>\n",
       "      <td>Ariana Grande</td>\n",
       "      <td></td>\n",
       "      <td></td>\n",
       "      <td></td>\n",
       "      <td></td>\n",
       "      <td></td>\n",
       "    </tr>\n",
       "    <tr>\n",
       "      <th>2</th>\n",
       "      <td>3</td>\n",
       "      <td>Billie Eilish</td>\n",
       "      <td></td>\n",
       "      <td></td>\n",
       "      <td></td>\n",
       "      <td></td>\n",
       "      <td></td>\n",
       "    </tr>\n",
       "    <tr>\n",
       "      <th>3</th>\n",
       "      <td>4</td>\n",
       "      <td>Khalid</td>\n",
       "      <td></td>\n",
       "      <td></td>\n",
       "      <td></td>\n",
       "      <td></td>\n",
       "      <td></td>\n",
       "    </tr>\n",
       "    <tr>\n",
       "      <th>4</th>\n",
       "      <td>5</td>\n",
       "      <td>Drake</td>\n",
       "      <td></td>\n",
       "      <td></td>\n",
       "      <td></td>\n",
       "      <td></td>\n",
       "      <td></td>\n",
       "    </tr>\n",
       "  </tbody>\n",
       "</table>\n",
       "</div>"
      ],
      "text/plain": [
       "   2019_bb_rank    artist_name name2 genres popularity uri_spotify followers\n",
       "0             1    Post Malone                                              \n",
       "1             2  Ariana Grande                                              \n",
       "2             3  Billie Eilish                                              \n",
       "3             4         Khalid                                              \n",
       "4             5          Drake                                              "
      ]
     },
     "execution_count": 73,
     "metadata": {},
     "output_type": "execute_result"
    }
   ],
   "source": [
    "\n",
    "test_df['name2'] = \"\"\n",
    "test_df['genres'] = \"\"\n",
    "test_df['popularity'] = \"\"\n",
    "test_df['uri_spotify'] = \"\"\n",
    "test_df['followers'] = \"\"\n",
    "\n",
    "test_df.head()"
   ]
  },
  {
   "cell_type": "code",
   "execution_count": 74,
   "metadata": {},
   "outputs": [],
   "source": [
    "#   scatter plot of number of followers vs popularity\n",
    "#   bargraph top ten billboard and popularity\n",
    "#   scatter plot correlation of followers vs billboard placement\n",
    "#   plt.scatter(who_data.iloc[:,1],who_data.iloc[:,8])\n",
    "#plt.xlabel('followers')\n",
    "#plt.ylabel('popularity)')\n"
   ]
  },
  {
   "cell_type": "code",
   "execution_count": 75,
   "metadata": {},
   "outputs": [],
   "source": [
    "user_id ='72c82b45eef743cb8a144c07882d9689'\n",
    "token ='0b3a9740301246d790f7f91895124b38'\n",
    "spotify = spotipy.Spotify(client_credentials_manager=SpotifyClientCredentials(user_id,token))\n",
    "\n",
    "params= {\n",
    "    \"name2\": \"name\", \n",
    "    \"popularity\": \"popularity\",\n",
    "    \"genres\": \"genres\",\n",
    "    \"uri_spotify\": \"uri\",\n",
    "    \"followers\": \"followers\"\n",
    "}\n",
    "\n"
   ]
  },
  {
   "cell_type": "code",
   "execution_count": 76,
   "metadata": {},
   "outputs": [
    {
     "name": "stdout",
     "output_type": "stream",
     "text": [
      "Retrieving Results for Index 0: Post Malone.\n",
      "Retrieving Results for Index 1: Ariana Grande.\n",
      "Retrieving Results for Index 2: Billie Eilish.\n",
      "Retrieving Results for Index 3: Khalid.\n",
      "Retrieving Results for Index 4: Drake.\n",
      "Retrieving Results for Index 5: Travis Scott.\n",
      "Retrieving Results for Index 6: Ed Sheeran.\n",
      "Retrieving Results for Index 7: Taylor Swift.\n",
      "Retrieving Results for Index 8: Lil Nas X.\n",
      "Retrieving Results for Index 9: Halsey.\n",
      "Retrieving Results for Index 10: Jonas Brothers.\n",
      "Retrieving Results for Index 11: Juice WRLD.\n",
      "Retrieving Results for Index 12: Cardi B.\n",
      "Retrieving Results for Index 13: DaBaby.\n",
      "Retrieving Results for Index 14: BTS.\n",
      "Retrieving Results for Index 15: Panic! At The Disco.\n",
      "Retrieving Results for Index 16: Luke Combs.\n",
      "Retrieving Results for Index 17: Lil Baby.\n",
      "Retrieving Results for Index 18: Shawn Mendes.\n",
      "Retrieving Results for Index 19: Lizzo.\n",
      "Retrieving Results for Index 20: Meek Mill.\n",
      "Retrieving Results for Index 21: Queen.\n",
      "Retrieving Results for Index 22: Dan + Shay.\n",
      "Retrieving Results for Index 23: A Boogie Wit da Hoodie.\n",
      "Retrieving Results for Index 24: P!nk.\n",
      "Retrieving Results for Index 25: Chris Brown.\n",
      "Retrieving Results for Index 26: XXXTENTACION.\n",
      "Retrieving Results for Index 27: J. Cole.\n",
      "Retrieving Results for Index 28: Elton John.\n",
      "Retrieving Results for Index 29: Imagine Dragons.\n",
      "Retrieving Results for Index 30: Bad Bunny.\n",
      "Retrieving Results for Index 31: Kodak Black.\n",
      "Retrieving Results for Index 32: 21 Savage.\n",
      "Retrieving Results for Index 33: YoungBoy Never Broke Again.\n",
      "Retrieving Results for Index 34: Gunna.\n",
      "Retrieving Results for Index 35: Kane Brown.\n",
      "Retrieving Results for Index 36: Lady Gaga.\n",
      "Retrieving Results for Index 37: Marshmello.\n",
      "Retrieving Results for Index 38: Thomas Rhett.\n",
      "Retrieving Results for Index 39: Maroon 5.\n",
      "Retrieving Results for Index 40: Swae Lee.\n",
      "Retrieving Results for Index 41: Camila Cabello.\n",
      "Retrieving Results for Index 42: Sam Smith.\n",
      "Retrieving Results for Index 43: YNW Melly.\n",
      "Retrieving Results for Index 44: The Rolling Stones.\n",
      "Retrieving Results for Index 45: 5 Seconds Of Summer.\n",
      "Retrieving Results for Index 46: Lauren Daigle.\n",
      "Retrieving Results for Index 47: Lil Tecca.\n",
      "Retrieving Results for Index 48: Metallica.\n",
      "Retrieving Results for Index 49: Bruno Mars.\n",
      "Retrieving Results for Index 50: Young Thug.\n",
      "Retrieving Results for Index 51: Ella Mai.\n",
      "Retrieving Results for Index 52: Bradley Cooper.\n",
      "Retrieving Results for Index 53: Lewis Capaldi.\n",
      "Retrieving Results for Index 54: Eminem.\n",
      "Retrieving Results for Index 55: Jason Aldean.\n",
      "Retrieving Results for Index 56: NF.\n",
      "Retrieving Results for Index 57: Michael Buble.\n",
      "Retrieving Results for Index 58: Ava Max.\n",
      "Retrieving Results for Index 59: The Beatles.\n",
      "Retrieving Results for Index 60: Normani.\n",
      "Retrieving Results for Index 61: Florida Georgia Line.\n",
      "Retrieving Results for Index 62: twenty one pilots.\n",
      "Retrieving Results for Index 63: Billy Ray Cyrus.\n",
      "Retrieving Results for Index 64: Chris Stapleton.\n",
      "Retrieving Results for Index 65: Summer Walker.\n",
      "Retrieving Results for Index 66: Morgan Wallen.\n",
      "Retrieving Results for Index 67: Bastille.\n",
      "Retrieving Results for Index 68: Offset.\n",
      "Retrieving Results for Index 69: Trippie Redd.\n",
      "Retrieving Results for Index 70: Tyler, The Creator.\n",
      "Retrieving Results for Index 71: Future.\n",
      "Retrieving Results for Index 72: Lil Wayne.\n",
      "Retrieving Results for Index 73: Blake Shelton.\n",
      "Retrieving Results for Index 74: Justin Bieber.\n",
      "Retrieving Results for Index 75: City Girls.\n",
      "Retrieving Results for Index 76: Blueface.\n",
      "Retrieving Results for Index 77: Carrie Underwood.\n",
      "Retrieving Results for Index 78: Kanye West.\n",
      "Retrieving Results for Index 79: DJ Khaled.\n",
      "Retrieving Results for Index 80: Billy Joel.\n",
      "Retrieving Results for Index 81: Eagles.\n",
      "Retrieving Results for Index 82: Backstreet Boys.\n",
      "Retrieving Results for Index 83: Paul McCartney.\n",
      "Retrieving Results for Index 84: Megan Thee Stallion.\n",
      "Retrieving Results for Index 85: Maren Morris.\n",
      "Retrieving Results for Index 86: Bazzi.\n",
      "Retrieving Results for Index 87: Mustard.\n",
      "Retrieving Results for Index 88: 6ix9ine.\n",
      "Retrieving Results for Index 89: Kendrick Lamar.\n",
      "Retrieving Results for Index 90: Polo G.\n",
      "Retrieving Results for Index 91: Sheck Wes.\n",
      "Retrieving Results for Index 92: Migos.\n",
      "Retrieving Results for Index 93: Lil Uzi Vert.\n",
      "Retrieving Results for Index 94: Nipsey Hussle.\n",
      "Retrieving Results for Index 95: Fleetwood Mac.\n",
      "Retrieving Results for Index 96: The Weeknd.\n",
      "Retrieving Results for Index 97: Eric Church.\n",
      "Retrieving Results for Index 98: benny blanco.\n",
      "Retrieving Results for Index 99: Luke Bryan.\n"
     ]
    }
   ],
   "source": [
    "for index, row in test_df[:101].iterrows():\n",
    "\n",
    "    # get restaurant type from df\n",
    "    person = row['artist_name']\n",
    "\n",
    "    # add keyword to params dict\n",
    "    params['keyword'] = person\n",
    "\n",
    "    # assemble url and make API request\n",
    "    print(f\"Retrieving Results for Index {index}: {person}.\")\n",
    "    results = spotify.search(q=f'artist: {person}', type='artist')\n",
    "    \n",
    "    artist_data = results['artists']['items']\n",
    "    \n",
    "    try:\n",
    "        #print(f\"Artist {person} is in dataset\")\n",
    "        #print(f\"Trying to get name\")\n",
    "        test_df.loc[index, 'name2'] = artist_data[0]['name']\n",
    "        #print(f\"Trying to get popularity\")\n",
    "        test_df.loc[index, 'popularity'] = artist_data[0]['popularity']\n",
    "        #print(f\"Trying to get genres\")\n",
    "        #print(artist_data[0]['genres'])\n",
    "        #print(type(artist_data[0]['genres']))\n",
    "        test_df.loc[index, 'genres'] = str(artist_data[0]['genres'])\n",
    "        test_df.loc[index, 'uri_spotify'] = str(artist_data[0]['uri'])\n",
    "        test_df.loc[index, 'followers'] = str(artist_data[0]['followers']['total'])\n",
    "    except Exception as e:\n",
    "        print(e)"
   ]
  },
  {
   "cell_type": "code",
   "execution_count": 77,
   "metadata": {},
   "outputs": [
    {
     "data": {
      "text/html": [
       "<div>\n",
       "<style scoped>\n",
       "    .dataframe tbody tr th:only-of-type {\n",
       "        vertical-align: middle;\n",
       "    }\n",
       "\n",
       "    .dataframe tbody tr th {\n",
       "        vertical-align: top;\n",
       "    }\n",
       "\n",
       "    .dataframe thead th {\n",
       "        text-align: right;\n",
       "    }\n",
       "</style>\n",
       "<table border=\"1\" class=\"dataframe\">\n",
       "  <thead>\n",
       "    <tr style=\"text-align: right;\">\n",
       "      <th></th>\n",
       "      <th>2019_bb_rank</th>\n",
       "      <th>artist_name</th>\n",
       "      <th>name2</th>\n",
       "      <th>genres</th>\n",
       "      <th>popularity</th>\n",
       "      <th>uri_spotify</th>\n",
       "      <th>followers</th>\n",
       "    </tr>\n",
       "  </thead>\n",
       "  <tbody>\n",
       "    <tr>\n",
       "      <th>0</th>\n",
       "      <td>1</td>\n",
       "      <td>Post Malone</td>\n",
       "      <td>Post Malone</td>\n",
       "      <td>['dfw rap', 'melodic rap', 'rap']</td>\n",
       "      <td>95</td>\n",
       "      <td>spotify:artist:246dkjvS1zLTtiykXe5h60</td>\n",
       "      <td>29193948</td>\n",
       "    </tr>\n",
       "    <tr>\n",
       "      <th>1</th>\n",
       "      <td>2</td>\n",
       "      <td>Ariana Grande</td>\n",
       "      <td>Ariana Grande</td>\n",
       "      <td>['dance pop', 'pop', 'post-teen pop']</td>\n",
       "      <td>99</td>\n",
       "      <td>spotify:artist:66CXWjxzNUsdJxJ2JdwvnR</td>\n",
       "      <td>52615963</td>\n",
       "    </tr>\n",
       "    <tr>\n",
       "      <th>2</th>\n",
       "      <td>3</td>\n",
       "      <td>Billie Eilish</td>\n",
       "      <td>Billie Eilish</td>\n",
       "      <td>['electropop', 'pop']</td>\n",
       "      <td>93</td>\n",
       "      <td>spotify:artist:6qqNVTkY8uBg9cP3Jd7DAH</td>\n",
       "      <td>34747517</td>\n",
       "    </tr>\n",
       "    <tr>\n",
       "      <th>3</th>\n",
       "      <td>4</td>\n",
       "      <td>Khalid</td>\n",
       "      <td>Khalid</td>\n",
       "      <td>['alternative r&amp;b', 'pop']</td>\n",
       "      <td>93</td>\n",
       "      <td>spotify:artist:6LuN9FCkKOj5PcnpouEgny</td>\n",
       "      <td>12837593</td>\n",
       "    </tr>\n",
       "    <tr>\n",
       "      <th>4</th>\n",
       "      <td>5</td>\n",
       "      <td>Drake</td>\n",
       "      <td>Drake</td>\n",
       "      <td>['canadian hip hop', 'canadian pop', 'hip hop'...</td>\n",
       "      <td>100</td>\n",
       "      <td>spotify:artist:3TVXtAsR1Inumwj472S9r4</td>\n",
       "      <td>50614759</td>\n",
       "    </tr>\n",
       "    <tr>\n",
       "      <th>...</th>\n",
       "      <td>...</td>\n",
       "      <td>...</td>\n",
       "      <td>...</td>\n",
       "      <td>...</td>\n",
       "      <td>...</td>\n",
       "      <td>...</td>\n",
       "      <td>...</td>\n",
       "    </tr>\n",
       "    <tr>\n",
       "      <th>95</th>\n",
       "      <td>96</td>\n",
       "      <td>Fleetwood Mac</td>\n",
       "      <td>Fleetwood Mac</td>\n",
       "      <td>['album rock', 'classic rock', 'mellow gold', ...</td>\n",
       "      <td>88</td>\n",
       "      <td>spotify:artist:08GQAI4eElDnROBrJRGE0X</td>\n",
       "      <td>5470511</td>\n",
       "    </tr>\n",
       "    <tr>\n",
       "      <th>96</th>\n",
       "      <td>97</td>\n",
       "      <td>The Weeknd</td>\n",
       "      <td>The Weeknd</td>\n",
       "      <td>['canadian contemporary r&amp;b', 'canadian pop', ...</td>\n",
       "      <td>96</td>\n",
       "      <td>spotify:artist:1Xyo4u8uXC1ZmMpatF05PJ</td>\n",
       "      <td>25592370</td>\n",
       "    </tr>\n",
       "    <tr>\n",
       "      <th>97</th>\n",
       "      <td>98</td>\n",
       "      <td>Eric Church</td>\n",
       "      <td>Eric Church</td>\n",
       "      <td>['contemporary country', 'country', 'country r...</td>\n",
       "      <td>78</td>\n",
       "      <td>spotify:artist:2IvkS5MXK0vPGnwyJsrEyV</td>\n",
       "      <td>2747448</td>\n",
       "    </tr>\n",
       "    <tr>\n",
       "      <th>98</th>\n",
       "      <td>99</td>\n",
       "      <td>benny blanco</td>\n",
       "      <td>benny blanco</td>\n",
       "      <td>['electropop', 'pop', 'pop rap']</td>\n",
       "      <td>85</td>\n",
       "      <td>spotify:artist:5CiGnKThu5ctn9pBxv7DGa</td>\n",
       "      <td>653702</td>\n",
       "    </tr>\n",
       "    <tr>\n",
       "      <th>99</th>\n",
       "      <td>100</td>\n",
       "      <td>Luke Bryan</td>\n",
       "      <td>Luke Bryan</td>\n",
       "      <td>['contemporary country', 'country', 'country r...</td>\n",
       "      <td>80</td>\n",
       "      <td>spotify:artist:0BvkDsjIUla7X0k6CSWh1I</td>\n",
       "      <td>5825766</td>\n",
       "    </tr>\n",
       "  </tbody>\n",
       "</table>\n",
       "<p>100 rows × 7 columns</p>\n",
       "</div>"
      ],
      "text/plain": [
       "    2019_bb_rank    artist_name          name2  \\\n",
       "0              1    Post Malone    Post Malone   \n",
       "1              2  Ariana Grande  Ariana Grande   \n",
       "2              3  Billie Eilish  Billie Eilish   \n",
       "3              4         Khalid         Khalid   \n",
       "4              5          Drake          Drake   \n",
       "..           ...            ...            ...   \n",
       "95            96  Fleetwood Mac  Fleetwood Mac   \n",
       "96            97     The Weeknd     The Weeknd   \n",
       "97            98    Eric Church    Eric Church   \n",
       "98            99   benny blanco   benny blanco   \n",
       "99           100     Luke Bryan     Luke Bryan   \n",
       "\n",
       "                                               genres popularity  \\\n",
       "0                   ['dfw rap', 'melodic rap', 'rap']         95   \n",
       "1               ['dance pop', 'pop', 'post-teen pop']         99   \n",
       "2                               ['electropop', 'pop']         93   \n",
       "3                          ['alternative r&b', 'pop']         93   \n",
       "4   ['canadian hip hop', 'canadian pop', 'hip hop'...        100   \n",
       "..                                                ...        ...   \n",
       "95  ['album rock', 'classic rock', 'mellow gold', ...         88   \n",
       "96  ['canadian contemporary r&b', 'canadian pop', ...         96   \n",
       "97  ['contemporary country', 'country', 'country r...         78   \n",
       "98                   ['electropop', 'pop', 'pop rap']         85   \n",
       "99  ['contemporary country', 'country', 'country r...         80   \n",
       "\n",
       "                              uri_spotify followers  \n",
       "0   spotify:artist:246dkjvS1zLTtiykXe5h60  29193948  \n",
       "1   spotify:artist:66CXWjxzNUsdJxJ2JdwvnR  52615963  \n",
       "2   spotify:artist:6qqNVTkY8uBg9cP3Jd7DAH  34747517  \n",
       "3   spotify:artist:6LuN9FCkKOj5PcnpouEgny  12837593  \n",
       "4   spotify:artist:3TVXtAsR1Inumwj472S9r4  50614759  \n",
       "..                                    ...       ...  \n",
       "95  spotify:artist:08GQAI4eElDnROBrJRGE0X   5470511  \n",
       "96  spotify:artist:1Xyo4u8uXC1ZmMpatF05PJ  25592370  \n",
       "97  spotify:artist:2IvkS5MXK0vPGnwyJsrEyV   2747448  \n",
       "98  spotify:artist:5CiGnKThu5ctn9pBxv7DGa    653702  \n",
       "99  spotify:artist:0BvkDsjIUla7X0k6CSWh1I   5825766  \n",
       "\n",
       "[100 rows x 7 columns]"
      ]
     },
     "execution_count": 77,
     "metadata": {},
     "output_type": "execute_result"
    }
   ],
   "source": [
    "\n",
    "test_df.loc[test_df['name2'] != '']"
   ]
  },
  {
   "cell_type": "code",
   "execution_count": 78,
   "metadata": {},
   "outputs": [
    {
     "name": "stdout",
     "output_type": "stream",
     "text": [
      "Taylor Swift\n",
      "95\n",
      "Taylor Swift https://i.scdn.co/image/a37efbc7fd3f5f5df81b48ce9c6de53820b239c1\n"
     ]
    }
   ],
   "source": [
    "\n",
    "#### SAVED CODE DO NOT DELETE #spotify = spotipy.Spotify(auth_manager=SpotifyClientCredentials())\n",
    "\n",
    "name = 'Taylor Swift'\n",
    "\n",
    "results = spotify.search(q='artist:' + name, type='artist')\n",
    "items = results['artists']['items']\n",
    "if len(items) > 0:\n",
    "    artist = items[0]\n",
    "    print(artist['name'])\n",
    "    print(artist['popularity'])\n",
    "    print(artist['name'], artist['images'][0]['url'])"
   ]
  },
  {
   "cell_type": "code",
   "execution_count": 79,
   "metadata": {},
   "outputs": [
    {
     "data": {
      "text/html": [
       "<div>\n",
       "<style scoped>\n",
       "    .dataframe tbody tr th:only-of-type {\n",
       "        vertical-align: middle;\n",
       "    }\n",
       "\n",
       "    .dataframe tbody tr th {\n",
       "        vertical-align: top;\n",
       "    }\n",
       "\n",
       "    .dataframe thead th {\n",
       "        text-align: right;\n",
       "    }\n",
       "</style>\n",
       "<table border=\"1\" class=\"dataframe\">\n",
       "  <thead>\n",
       "    <tr style=\"text-align: right;\">\n",
       "      <th></th>\n",
       "      <th>2019_bb_rank</th>\n",
       "      <th>artist_name</th>\n",
       "      <th>name2</th>\n",
       "      <th>genres</th>\n",
       "      <th>popularity</th>\n",
       "      <th>uri_spotify</th>\n",
       "      <th>followers</th>\n",
       "    </tr>\n",
       "  </thead>\n",
       "  <tbody>\n",
       "    <tr>\n",
       "      <th>0</th>\n",
       "      <td>1</td>\n",
       "      <td>Post Malone</td>\n",
       "      <td>Post Malone</td>\n",
       "      <td>['dfw rap', 'melodic rap', 'rap']</td>\n",
       "      <td>95</td>\n",
       "      <td>spotify:artist:246dkjvS1zLTtiykXe5h60</td>\n",
       "      <td>29193948</td>\n",
       "    </tr>\n",
       "    <tr>\n",
       "      <th>1</th>\n",
       "      <td>2</td>\n",
       "      <td>Ariana Grande</td>\n",
       "      <td>Ariana Grande</td>\n",
       "      <td>['dance pop', 'pop', 'post-teen pop']</td>\n",
       "      <td>99</td>\n",
       "      <td>spotify:artist:66CXWjxzNUsdJxJ2JdwvnR</td>\n",
       "      <td>52615963</td>\n",
       "    </tr>\n",
       "    <tr>\n",
       "      <th>2</th>\n",
       "      <td>3</td>\n",
       "      <td>Billie Eilish</td>\n",
       "      <td>Billie Eilish</td>\n",
       "      <td>['electropop', 'pop']</td>\n",
       "      <td>93</td>\n",
       "      <td>spotify:artist:6qqNVTkY8uBg9cP3Jd7DAH</td>\n",
       "      <td>34747517</td>\n",
       "    </tr>\n",
       "    <tr>\n",
       "      <th>3</th>\n",
       "      <td>4</td>\n",
       "      <td>Khalid</td>\n",
       "      <td>Khalid</td>\n",
       "      <td>['alternative r&amp;b', 'pop']</td>\n",
       "      <td>93</td>\n",
       "      <td>spotify:artist:6LuN9FCkKOj5PcnpouEgny</td>\n",
       "      <td>12837593</td>\n",
       "    </tr>\n",
       "    <tr>\n",
       "      <th>4</th>\n",
       "      <td>5</td>\n",
       "      <td>Drake</td>\n",
       "      <td>Drake</td>\n",
       "      <td>['canadian hip hop', 'canadian pop', 'hip hop'...</td>\n",
       "      <td>100</td>\n",
       "      <td>spotify:artist:3TVXtAsR1Inumwj472S9r4</td>\n",
       "      <td>50614759</td>\n",
       "    </tr>\n",
       "  </tbody>\n",
       "</table>\n",
       "</div>"
      ],
      "text/plain": [
       "   2019_bb_rank    artist_name          name2  \\\n",
       "0             1    Post Malone    Post Malone   \n",
       "1             2  Ariana Grande  Ariana Grande   \n",
       "2             3  Billie Eilish  Billie Eilish   \n",
       "3             4         Khalid         Khalid   \n",
       "4             5          Drake          Drake   \n",
       "\n",
       "                                              genres popularity  \\\n",
       "0                  ['dfw rap', 'melodic rap', 'rap']         95   \n",
       "1              ['dance pop', 'pop', 'post-teen pop']         99   \n",
       "2                              ['electropop', 'pop']         93   \n",
       "3                         ['alternative r&b', 'pop']         93   \n",
       "4  ['canadian hip hop', 'canadian pop', 'hip hop'...        100   \n",
       "\n",
       "                             uri_spotify followers  \n",
       "0  spotify:artist:246dkjvS1zLTtiykXe5h60  29193948  \n",
       "1  spotify:artist:66CXWjxzNUsdJxJ2JdwvnR  52615963  \n",
       "2  spotify:artist:6qqNVTkY8uBg9cP3Jd7DAH  34747517  \n",
       "3  spotify:artist:6LuN9FCkKOj5PcnpouEgny  12837593  \n",
       "4  spotify:artist:3TVXtAsR1Inumwj472S9r4  50614759  "
      ]
     },
     "execution_count": 79,
     "metadata": {},
     "output_type": "execute_result"
    }
   ],
   "source": [
    "test_df.head()"
   ]
  },
  {
   "cell_type": "code",
   "execution_count": null,
   "metadata": {},
   "outputs": [],
   "source": []
  },
  {
   "cell_type": "code",
   "execution_count": 101,
   "metadata": {
    "scrolled": true
   },
   "outputs": [
    {
     "ename": "NameError",
     "evalue": "name 'theta' is not defined",
     "output_type": "error",
     "traceback": [
      "\u001b[1;31m---------------------------------------------------------------------------\u001b[0m",
      "\u001b[1;31mNameError\u001b[0m                                 Traceback (most recent call last)",
      "\u001b[1;32m<ipython-input-101-7686b7bff8e4>\u001b[0m in \u001b[0;36m<module>\u001b[1;34m\u001b[0m\n\u001b[1;32m----> 1\u001b[1;33m \u001b[0mcolors\u001b[0m \u001b[1;33m=\u001b[0m \u001b[0mtheta\u001b[0m\u001b[1;33m\u001b[0m\u001b[1;33m\u001b[0m\u001b[0m\n\u001b[0m",
      "\u001b[1;31mNameError\u001b[0m: name 'theta' is not defined"
     ]
    }
   ],
   "source": [
    "colors = theta"
   ]
  },
  {
   "cell_type": "code",
   "execution_count": 102,
   "metadata": {
    "scrolled": true
   },
   "outputs": [
    {
     "ename": "ValueError",
     "evalue": "'c' argument has 5 elements, which is inconsistent with 'x' and 'y' with size 100.",
     "output_type": "error",
     "traceback": [
      "\u001b[1;31m---------------------------------------------------------------------------\u001b[0m",
      "\u001b[1;31mValueError\u001b[0m                                Traceback (most recent call last)",
      "\u001b[1;32m~\\anaconda3\\lib\\site-packages\\matplotlib\\axes\\_axes.py\u001b[0m in \u001b[0;36m_parse_scatter_color_args\u001b[1;34m(c, edgecolors, kwargs, xsize, get_next_color_func)\u001b[0m\n\u001b[0;32m   4238\u001b[0m             \u001b[1;32mtry\u001b[0m\u001b[1;33m:\u001b[0m  \u001b[1;31m# Is 'c' acceptable as PathCollection facecolors?\u001b[0m\u001b[1;33m\u001b[0m\u001b[1;33m\u001b[0m\u001b[0m\n\u001b[1;32m-> 4239\u001b[1;33m                 \u001b[0mcolors\u001b[0m \u001b[1;33m=\u001b[0m \u001b[0mmcolors\u001b[0m\u001b[1;33m.\u001b[0m\u001b[0mto_rgba_array\u001b[0m\u001b[1;33m(\u001b[0m\u001b[0mc\u001b[0m\u001b[1;33m)\u001b[0m\u001b[1;33m\u001b[0m\u001b[1;33m\u001b[0m\u001b[0m\n\u001b[0m\u001b[0;32m   4240\u001b[0m             \u001b[1;32mexcept\u001b[0m \u001b[0mValueError\u001b[0m\u001b[1;33m:\u001b[0m\u001b[1;33m\u001b[0m\u001b[1;33m\u001b[0m\u001b[0m\n",
      "\u001b[1;32m~\\anaconda3\\lib\\site-packages\\matplotlib\\colors.py\u001b[0m in \u001b[0;36mto_rgba_array\u001b[1;34m(c, alpha)\u001b[0m\n\u001b[0;32m    339\u001b[0m     \u001b[1;32melse\u001b[0m\u001b[1;33m:\u001b[0m\u001b[1;33m\u001b[0m\u001b[1;33m\u001b[0m\u001b[0m\n\u001b[1;32m--> 340\u001b[1;33m         \u001b[1;32mreturn\u001b[0m \u001b[0mnp\u001b[0m\u001b[1;33m.\u001b[0m\u001b[0marray\u001b[0m\u001b[1;33m(\u001b[0m\u001b[1;33m[\u001b[0m\u001b[0mto_rgba\u001b[0m\u001b[1;33m(\u001b[0m\u001b[0mcc\u001b[0m\u001b[1;33m,\u001b[0m \u001b[0malpha\u001b[0m\u001b[1;33m)\u001b[0m \u001b[1;32mfor\u001b[0m \u001b[0mcc\u001b[0m \u001b[1;32min\u001b[0m \u001b[0mc\u001b[0m\u001b[1;33m]\u001b[0m\u001b[1;33m)\u001b[0m\u001b[1;33m\u001b[0m\u001b[1;33m\u001b[0m\u001b[0m\n\u001b[0m\u001b[0;32m    341\u001b[0m \u001b[1;33m\u001b[0m\u001b[0m\n",
      "\u001b[1;32m~\\anaconda3\\lib\\site-packages\\matplotlib\\colors.py\u001b[0m in \u001b[0;36m<listcomp>\u001b[1;34m(.0)\u001b[0m\n\u001b[0;32m    339\u001b[0m     \u001b[1;32melse\u001b[0m\u001b[1;33m:\u001b[0m\u001b[1;33m\u001b[0m\u001b[1;33m\u001b[0m\u001b[0m\n\u001b[1;32m--> 340\u001b[1;33m         \u001b[1;32mreturn\u001b[0m \u001b[0mnp\u001b[0m\u001b[1;33m.\u001b[0m\u001b[0marray\u001b[0m\u001b[1;33m(\u001b[0m\u001b[1;33m[\u001b[0m\u001b[0mto_rgba\u001b[0m\u001b[1;33m(\u001b[0m\u001b[0mcc\u001b[0m\u001b[1;33m,\u001b[0m \u001b[0malpha\u001b[0m\u001b[1;33m)\u001b[0m \u001b[1;32mfor\u001b[0m \u001b[0mcc\u001b[0m \u001b[1;32min\u001b[0m \u001b[0mc\u001b[0m\u001b[1;33m]\u001b[0m\u001b[1;33m)\u001b[0m\u001b[1;33m\u001b[0m\u001b[1;33m\u001b[0m\u001b[0m\n\u001b[0m\u001b[0;32m    341\u001b[0m \u001b[1;33m\u001b[0m\u001b[0m\n",
      "\u001b[1;32m~\\anaconda3\\lib\\site-packages\\matplotlib\\colors.py\u001b[0m in \u001b[0;36mto_rgba\u001b[1;34m(c, alpha)\u001b[0m\n\u001b[0;32m    184\u001b[0m     \u001b[1;32mif\u001b[0m \u001b[0mrgba\u001b[0m \u001b[1;32mis\u001b[0m \u001b[1;32mNone\u001b[0m\u001b[1;33m:\u001b[0m  \u001b[1;31m# Suppress exception chaining of cache lookup failure.\u001b[0m\u001b[1;33m\u001b[0m\u001b[1;33m\u001b[0m\u001b[0m\n\u001b[1;32m--> 185\u001b[1;33m         \u001b[0mrgba\u001b[0m \u001b[1;33m=\u001b[0m \u001b[0m_to_rgba_no_colorcycle\u001b[0m\u001b[1;33m(\u001b[0m\u001b[0mc\u001b[0m\u001b[1;33m,\u001b[0m \u001b[0malpha\u001b[0m\u001b[1;33m)\u001b[0m\u001b[1;33m\u001b[0m\u001b[1;33m\u001b[0m\u001b[0m\n\u001b[0m\u001b[0;32m    186\u001b[0m         \u001b[1;32mtry\u001b[0m\u001b[1;33m:\u001b[0m\u001b[1;33m\u001b[0m\u001b[1;33m\u001b[0m\u001b[0m\n",
      "\u001b[1;32m~\\anaconda3\\lib\\site-packages\\matplotlib\\colors.py\u001b[0m in \u001b[0;36m_to_rgba_no_colorcycle\u001b[1;34m(c, alpha)\u001b[0m\n\u001b[0;32m    267\u001b[0m         \u001b[1;31m# Test dimensionality to reject single floats.\u001b[0m\u001b[1;33m\u001b[0m\u001b[1;33m\u001b[0m\u001b[1;33m\u001b[0m\u001b[0m\n\u001b[1;32m--> 268\u001b[1;33m         \u001b[1;32mraise\u001b[0m \u001b[0mValueError\u001b[0m\u001b[1;33m(\u001b[0m\u001b[1;34mf\"Invalid RGBA argument: {orig_c!r}\"\u001b[0m\u001b[1;33m)\u001b[0m\u001b[1;33m\u001b[0m\u001b[1;33m\u001b[0m\u001b[0m\n\u001b[0m\u001b[0;32m    269\u001b[0m     \u001b[1;31m# Return a tuple to prevent the cached value from being modified.\u001b[0m\u001b[1;33m\u001b[0m\u001b[1;33m\u001b[0m\u001b[1;33m\u001b[0m\u001b[0m\n",
      "\u001b[1;31mValueError\u001b[0m: Invalid RGBA argument: 0.15446671033531867",
      "\nDuring handling of the above exception, another exception occurred:\n",
      "\u001b[1;31mValueError\u001b[0m                                Traceback (most recent call last)",
      "\u001b[1;32m<ipython-input-102-26ce56914f82>\u001b[0m in \u001b[0;36m<module>\u001b[1;34m\u001b[0m\n\u001b[0;32m      2\u001b[0m \u001b[0mBillboard_Ranking\u001b[0m \u001b[1;33m=\u001b[0m \u001b[0mtest_df\u001b[0m\u001b[1;33m.\u001b[0m\u001b[0miloc\u001b[0m\u001b[1;33m[\u001b[0m\u001b[1;33m:\u001b[0m\u001b[1;33m,\u001b[0m\u001b[1;36m0\u001b[0m\u001b[1;33m]\u001b[0m\u001b[1;33m\u001b[0m\u001b[1;33m\u001b[0m\u001b[0m\n\u001b[0;32m      3\u001b[0m \u001b[0mcorrelation\u001b[0m \u001b[1;33m=\u001b[0m \u001b[0mst\u001b[0m\u001b[1;33m.\u001b[0m\u001b[0mpearsonr\u001b[0m\u001b[1;33m(\u001b[0m\u001b[0mPopularity\u001b[0m\u001b[1;33m,\u001b[0m\u001b[0mBillboard_Ranking\u001b[0m\u001b[1;33m)\u001b[0m\u001b[1;33m\u001b[0m\u001b[1;33m\u001b[0m\u001b[0m\n\u001b[1;32m----> 4\u001b[1;33m plt.scatter(Popularity,Billboard_Ranking, marker=\"o\", c=colors, edgecolors=\"red\",\n\u001b[0m\u001b[0;32m      5\u001b[0m             alpha=0.50)\n\u001b[0;32m      6\u001b[0m \u001b[0mplt\u001b[0m\u001b[1;33m.\u001b[0m\u001b[0mxlabel\u001b[0m\u001b[1;33m(\u001b[0m\u001b[1;34m'Popularity on Spotify'\u001b[0m\u001b[1;33m)\u001b[0m\u001b[1;33m\u001b[0m\u001b[1;33m\u001b[0m\u001b[0m\n",
      "\u001b[1;32m~\\anaconda3\\lib\\site-packages\\matplotlib\\pyplot.py\u001b[0m in \u001b[0;36mscatter\u001b[1;34m(x, y, s, c, marker, cmap, norm, vmin, vmax, alpha, linewidths, verts, edgecolors, plotnonfinite, data, **kwargs)\u001b[0m\n\u001b[0;32m   2809\u001b[0m         \u001b[0mverts\u001b[0m\u001b[1;33m=\u001b[0m\u001b[0mcbook\u001b[0m\u001b[1;33m.\u001b[0m\u001b[0mdeprecation\u001b[0m\u001b[1;33m.\u001b[0m\u001b[0m_deprecated_parameter\u001b[0m\u001b[1;33m,\u001b[0m\u001b[1;33m\u001b[0m\u001b[1;33m\u001b[0m\u001b[0m\n\u001b[0;32m   2810\u001b[0m         edgecolors=None, *, plotnonfinite=False, data=None, **kwargs):\n\u001b[1;32m-> 2811\u001b[1;33m     __ret = gca().scatter(\n\u001b[0m\u001b[0;32m   2812\u001b[0m         \u001b[0mx\u001b[0m\u001b[1;33m,\u001b[0m \u001b[0my\u001b[0m\u001b[1;33m,\u001b[0m \u001b[0ms\u001b[0m\u001b[1;33m=\u001b[0m\u001b[0ms\u001b[0m\u001b[1;33m,\u001b[0m \u001b[0mc\u001b[0m\u001b[1;33m=\u001b[0m\u001b[0mc\u001b[0m\u001b[1;33m,\u001b[0m \u001b[0mmarker\u001b[0m\u001b[1;33m=\u001b[0m\u001b[0mmarker\u001b[0m\u001b[1;33m,\u001b[0m \u001b[0mcmap\u001b[0m\u001b[1;33m=\u001b[0m\u001b[0mcmap\u001b[0m\u001b[1;33m,\u001b[0m \u001b[0mnorm\u001b[0m\u001b[1;33m=\u001b[0m\u001b[0mnorm\u001b[0m\u001b[1;33m,\u001b[0m\u001b[1;33m\u001b[0m\u001b[1;33m\u001b[0m\u001b[0m\n\u001b[0;32m   2813\u001b[0m         \u001b[0mvmin\u001b[0m\u001b[1;33m=\u001b[0m\u001b[0mvmin\u001b[0m\u001b[1;33m,\u001b[0m \u001b[0mvmax\u001b[0m\u001b[1;33m=\u001b[0m\u001b[0mvmax\u001b[0m\u001b[1;33m,\u001b[0m \u001b[0malpha\u001b[0m\u001b[1;33m=\u001b[0m\u001b[0malpha\u001b[0m\u001b[1;33m,\u001b[0m \u001b[0mlinewidths\u001b[0m\u001b[1;33m=\u001b[0m\u001b[0mlinewidths\u001b[0m\u001b[1;33m,\u001b[0m\u001b[1;33m\u001b[0m\u001b[1;33m\u001b[0m\u001b[0m\n",
      "\u001b[1;32m~\\anaconda3\\lib\\site-packages\\matplotlib\\__init__.py\u001b[0m in \u001b[0;36minner\u001b[1;34m(ax, data, *args, **kwargs)\u001b[0m\n\u001b[0;32m   1563\u001b[0m     \u001b[1;32mdef\u001b[0m \u001b[0minner\u001b[0m\u001b[1;33m(\u001b[0m\u001b[0max\u001b[0m\u001b[1;33m,\u001b[0m \u001b[1;33m*\u001b[0m\u001b[0margs\u001b[0m\u001b[1;33m,\u001b[0m \u001b[0mdata\u001b[0m\u001b[1;33m=\u001b[0m\u001b[1;32mNone\u001b[0m\u001b[1;33m,\u001b[0m \u001b[1;33m**\u001b[0m\u001b[0mkwargs\u001b[0m\u001b[1;33m)\u001b[0m\u001b[1;33m:\u001b[0m\u001b[1;33m\u001b[0m\u001b[1;33m\u001b[0m\u001b[0m\n\u001b[0;32m   1564\u001b[0m         \u001b[1;32mif\u001b[0m \u001b[0mdata\u001b[0m \u001b[1;32mis\u001b[0m \u001b[1;32mNone\u001b[0m\u001b[1;33m:\u001b[0m\u001b[1;33m\u001b[0m\u001b[1;33m\u001b[0m\u001b[0m\n\u001b[1;32m-> 1565\u001b[1;33m             \u001b[1;32mreturn\u001b[0m \u001b[0mfunc\u001b[0m\u001b[1;33m(\u001b[0m\u001b[0max\u001b[0m\u001b[1;33m,\u001b[0m \u001b[1;33m*\u001b[0m\u001b[0mmap\u001b[0m\u001b[1;33m(\u001b[0m\u001b[0msanitize_sequence\u001b[0m\u001b[1;33m,\u001b[0m \u001b[0margs\u001b[0m\u001b[1;33m)\u001b[0m\u001b[1;33m,\u001b[0m \u001b[1;33m**\u001b[0m\u001b[0mkwargs\u001b[0m\u001b[1;33m)\u001b[0m\u001b[1;33m\u001b[0m\u001b[1;33m\u001b[0m\u001b[0m\n\u001b[0m\u001b[0;32m   1566\u001b[0m \u001b[1;33m\u001b[0m\u001b[0m\n\u001b[0;32m   1567\u001b[0m         \u001b[0mbound\u001b[0m \u001b[1;33m=\u001b[0m \u001b[0mnew_sig\u001b[0m\u001b[1;33m.\u001b[0m\u001b[0mbind\u001b[0m\u001b[1;33m(\u001b[0m\u001b[0max\u001b[0m\u001b[1;33m,\u001b[0m \u001b[1;33m*\u001b[0m\u001b[0margs\u001b[0m\u001b[1;33m,\u001b[0m \u001b[1;33m**\u001b[0m\u001b[0mkwargs\u001b[0m\u001b[1;33m)\u001b[0m\u001b[1;33m\u001b[0m\u001b[1;33m\u001b[0m\u001b[0m\n",
      "\u001b[1;32m~\\anaconda3\\lib\\site-packages\\matplotlib\\cbook\\deprecation.py\u001b[0m in \u001b[0;36mwrapper\u001b[1;34m(*args, **kwargs)\u001b[0m\n\u001b[0;32m    356\u001b[0m                 \u001b[1;34mf\"%(removal)s.  If any parameter follows {name!r}, they \"\u001b[0m\u001b[1;33m\u001b[0m\u001b[1;33m\u001b[0m\u001b[0m\n\u001b[0;32m    357\u001b[0m                 f\"should be pass as keyword, not positionally.\")\n\u001b[1;32m--> 358\u001b[1;33m         \u001b[1;32mreturn\u001b[0m \u001b[0mfunc\u001b[0m\u001b[1;33m(\u001b[0m\u001b[1;33m*\u001b[0m\u001b[0margs\u001b[0m\u001b[1;33m,\u001b[0m \u001b[1;33m**\u001b[0m\u001b[0mkwargs\u001b[0m\u001b[1;33m)\u001b[0m\u001b[1;33m\u001b[0m\u001b[1;33m\u001b[0m\u001b[0m\n\u001b[0m\u001b[0;32m    359\u001b[0m \u001b[1;33m\u001b[0m\u001b[0m\n\u001b[0;32m    360\u001b[0m     \u001b[1;32mreturn\u001b[0m \u001b[0mwrapper\u001b[0m\u001b[1;33m\u001b[0m\u001b[1;33m\u001b[0m\u001b[0m\n",
      "\u001b[1;32m~\\anaconda3\\lib\\site-packages\\matplotlib\\axes\\_axes.py\u001b[0m in \u001b[0;36mscatter\u001b[1;34m(self, x, y, s, c, marker, cmap, norm, vmin, vmax, alpha, linewidths, verts, edgecolors, plotnonfinite, **kwargs)\u001b[0m\n\u001b[0;32m   4399\u001b[0m \u001b[1;33m\u001b[0m\u001b[0m\n\u001b[0;32m   4400\u001b[0m         \u001b[0mc\u001b[0m\u001b[1;33m,\u001b[0m \u001b[0mcolors\u001b[0m\u001b[1;33m,\u001b[0m \u001b[0medgecolors\u001b[0m \u001b[1;33m=\u001b[0m\u001b[0;31m \u001b[0m\u001b[0;31m\\\u001b[0m\u001b[1;33m\u001b[0m\u001b[1;33m\u001b[0m\u001b[0m\n\u001b[1;32m-> 4401\u001b[1;33m             self._parse_scatter_color_args(\n\u001b[0m\u001b[0;32m   4402\u001b[0m                 \u001b[0mc\u001b[0m\u001b[1;33m,\u001b[0m \u001b[0medgecolors\u001b[0m\u001b[1;33m,\u001b[0m \u001b[0mkwargs\u001b[0m\u001b[1;33m,\u001b[0m \u001b[0mx\u001b[0m\u001b[1;33m.\u001b[0m\u001b[0msize\u001b[0m\u001b[1;33m,\u001b[0m\u001b[1;33m\u001b[0m\u001b[1;33m\u001b[0m\u001b[0m\n\u001b[0;32m   4403\u001b[0m                 get_next_color_func=self._get_patches_for_fill.get_next_color)\n",
      "\u001b[1;32m~\\anaconda3\\lib\\site-packages\\matplotlib\\axes\\_axes.py\u001b[0m in \u001b[0;36m_parse_scatter_color_args\u001b[1;34m(c, edgecolors, kwargs, xsize, get_next_color_func)\u001b[0m\n\u001b[0;32m   4240\u001b[0m             \u001b[1;32mexcept\u001b[0m \u001b[0mValueError\u001b[0m\u001b[1;33m:\u001b[0m\u001b[1;33m\u001b[0m\u001b[1;33m\u001b[0m\u001b[0m\n\u001b[0;32m   4241\u001b[0m                 \u001b[1;32mif\u001b[0m \u001b[1;32mnot\u001b[0m \u001b[0mvalid_shape\u001b[0m\u001b[1;33m:\u001b[0m\u001b[1;33m\u001b[0m\u001b[1;33m\u001b[0m\u001b[0m\n\u001b[1;32m-> 4242\u001b[1;33m                     \u001b[1;32mraise\u001b[0m \u001b[0minvalid_shape_exception\u001b[0m\u001b[1;33m(\u001b[0m\u001b[0mc\u001b[0m\u001b[1;33m.\u001b[0m\u001b[0msize\u001b[0m\u001b[1;33m,\u001b[0m \u001b[0mxsize\u001b[0m\u001b[1;33m)\u001b[0m\u001b[1;33m\u001b[0m\u001b[1;33m\u001b[0m\u001b[0m\n\u001b[0m\u001b[0;32m   4243\u001b[0m                 \u001b[1;31m# Both the mapping *and* the RGBA conversion failed: pretty\u001b[0m\u001b[1;33m\u001b[0m\u001b[1;33m\u001b[0m\u001b[1;33m\u001b[0m\u001b[0m\n\u001b[0;32m   4244\u001b[0m                 \u001b[1;31m# severe failure => one may appreciate a verbose feedback.\u001b[0m\u001b[1;33m\u001b[0m\u001b[1;33m\u001b[0m\u001b[1;33m\u001b[0m\u001b[0m\n",
      "\u001b[1;31mValueError\u001b[0m: 'c' argument has 5 elements, which is inconsistent with 'x' and 'y' with size 100."
     ]
    },
    {
     "data": {
      "image/png": "[encoded data removed]",
      "text/plain": [
       "<Figure size 432x288 with 1 Axes>"
      ]
     },
     "metadata": {
      "needs_background": "light"
     },
     "output_type": "display_data"
    }
   ],
   "source": [
    "Popularity = test_df.iloc[:,4]\n",
    "Billboard_Ranking = test_df.iloc[:,0]\n",
    "correlation = st.pearsonr(Popularity,Billboard_Ranking)\n",
    "plt.scatter(Popularity,Billboard_Ranking, marker=\"o\", c=colors, edgecolors=\"red\",\n",
    "            alpha=0.50)\n",
    "plt.xlabel('Popularity on Spotify')\n",
    "plt.ylabel('Billboard Ranking')\n",
    "print(f\"The correlation between both factors is {round(correlation[0],2)}\")\n",
    "plt.show()"
   ]
  },
  {
   "cell_type": "code",
   "execution_count": 80,
   "metadata": {},
   "outputs": [
    {
     "ename": "TypeError",
     "evalue": "unsupported operand type(s) for +: 'float' and 'str'",
     "output_type": "error",
     "traceback": [
      "\u001b[1;31m---------------------------------------------------------------------------\u001b[0m",
      "\u001b[1;31mTypeError\u001b[0m                                 Traceback (most recent call last)",
      "\u001b[1;32m<ipython-input-80-92cc9e4e2b7b>\u001b[0m in \u001b[0;36m<module>\u001b[1;34m\u001b[0m\n\u001b[0;32m      1\u001b[0m \u001b[0mPopularity\u001b[0m \u001b[1;33m=\u001b[0m \u001b[0mtest_df\u001b[0m\u001b[1;33m.\u001b[0m\u001b[0miloc\u001b[0m\u001b[1;33m[\u001b[0m\u001b[1;33m:\u001b[0m\u001b[1;33m,\u001b[0m\u001b[1;36m5\u001b[0m\u001b[1;33m]\u001b[0m\u001b[1;33m\u001b[0m\u001b[1;33m\u001b[0m\u001b[0m\n\u001b[0;32m      2\u001b[0m \u001b[0mBillboard_Ranking\u001b[0m \u001b[1;33m=\u001b[0m \u001b[0mtest_df\u001b[0m\u001b[1;33m.\u001b[0m\u001b[0miloc\u001b[0m\u001b[1;33m[\u001b[0m\u001b[1;33m:\u001b[0m\u001b[1;33m,\u001b[0m\u001b[1;36m1\u001b[0m\u001b[1;33m]\u001b[0m\u001b[1;33m\u001b[0m\u001b[1;33m\u001b[0m\u001b[0m\n\u001b[1;32m----> 3\u001b[1;33m \u001b[0mcorrelation\u001b[0m \u001b[1;33m=\u001b[0m \u001b[0mst\u001b[0m\u001b[1;33m.\u001b[0m\u001b[0mpearsonr\u001b[0m\u001b[1;33m(\u001b[0m\u001b[0mPopularity\u001b[0m\u001b[1;33m,\u001b[0m\u001b[0mBillboard_Ranking\u001b[0m\u001b[1;33m)\u001b[0m\u001b[1;33m\u001b[0m\u001b[1;33m\u001b[0m\u001b[0m\n\u001b[0m\u001b[0;32m      4\u001b[0m \u001b[0mplt\u001b[0m\u001b[1;33m.\u001b[0m\u001b[0mscatter\u001b[0m\u001b[1;33m(\u001b[0m\u001b[0mPopularity\u001b[0m\u001b[1;33m,\u001b[0m\u001b[0mBillboard_Ranking\u001b[0m\u001b[1;33m)\u001b[0m\u001b[1;33m\u001b[0m\u001b[1;33m\u001b[0m\u001b[0m\n\u001b[0;32m      5\u001b[0m \u001b[0mplt\u001b[0m\u001b[1;33m.\u001b[0m\u001b[0mxlabel\u001b[0m\u001b[1;33m(\u001b[0m\u001b[1;34m'Popularity on Spotify'\u001b[0m\u001b[1;33m)\u001b[0m\u001b[1;33m\u001b[0m\u001b[1;33m\u001b[0m\u001b[0m\n",
      "\u001b[1;32m~\\anaconda3\\lib\\site-packages\\scipy\\stats\\stats.py\u001b[0m in \u001b[0;36mpearsonr\u001b[1;34m(x, y)\u001b[0m\n\u001b[0;32m   3849\u001b[0m     \u001b[1;31m# that the data type is at least 64 bit floating point.  It might have\u001b[0m\u001b[1;33m\u001b[0m\u001b[1;33m\u001b[0m\u001b[1;33m\u001b[0m\u001b[0m\n\u001b[0;32m   3850\u001b[0m     \u001b[1;31m# more precision if the input is, for example, np.longdouble.\u001b[0m\u001b[1;33m\u001b[0m\u001b[1;33m\u001b[0m\u001b[1;33m\u001b[0m\u001b[0m\n\u001b[1;32m-> 3851\u001b[1;33m     \u001b[0mdtype\u001b[0m \u001b[1;33m=\u001b[0m \u001b[0mtype\u001b[0m\u001b[1;33m(\u001b[0m\u001b[1;36m1.0\u001b[0m \u001b[1;33m+\u001b[0m \u001b[0mx\u001b[0m\u001b[1;33m[\u001b[0m\u001b[1;36m0\u001b[0m\u001b[1;33m]\u001b[0m \u001b[1;33m+\u001b[0m \u001b[0my\u001b[0m\u001b[1;33m[\u001b[0m\u001b[1;36m0\u001b[0m\u001b[1;33m]\u001b[0m\u001b[1;33m)\u001b[0m\u001b[1;33m\u001b[0m\u001b[1;33m\u001b[0m\u001b[0m\n\u001b[0m\u001b[0;32m   3852\u001b[0m \u001b[1;33m\u001b[0m\u001b[0m\n\u001b[0;32m   3853\u001b[0m     \u001b[1;32mif\u001b[0m \u001b[0mn\u001b[0m \u001b[1;33m==\u001b[0m \u001b[1;36m2\u001b[0m\u001b[1;33m:\u001b[0m\u001b[1;33m\u001b[0m\u001b[1;33m\u001b[0m\u001b[0m\n",
      "\u001b[1;31mTypeError\u001b[0m: unsupported operand type(s) for +: 'float' and 'str'"
     ]
    }
   ],
   "source": [
    "Popularity = test_df.iloc[:,5]\n",
    "Billboard_Ranking = test_df.iloc[:,1]\n",
    "correlation = st.pearsonr(Popularity,Billboard_Ranking)\n",
    "plt.scatter(Popularity,Billboard_Ranking)\n",
    "plt.xlabel('Popularity on Spotify')\n",
    "plt.ylabel('Billboard Ranking')\n",
    "print(f\"The correlation between both factors is {round(correlation[0],2)}\")\n",
    "plt.show()"
   ]
  },
  {
   "cell_type": "code",
   "execution_count": 36,
   "metadata": {},
   "outputs": [
    {
     "ename": "AttributeError",
     "evalue": "'float' object has no attribute 'shape'",
     "output_type": "error",
     "traceback": [
      "\u001b[1;31m---------------------------------------------------------------------------\u001b[0m",
      "\u001b[1;31mAttributeError\u001b[0m                            Traceback (most recent call last)",
      "\u001b[1;32m<ipython-input-36-1ca5c224c83d>\u001b[0m in \u001b[0;36m<module>\u001b[1;34m\u001b[0m\n\u001b[1;32m----> 1\u001b[1;33m \u001b[1;33m(\u001b[0m\u001b[0mslope\u001b[0m\u001b[1;33m,\u001b[0m \u001b[0mintercept\u001b[0m\u001b[1;33m,\u001b[0m \u001b[0mrvalue\u001b[0m\u001b[1;33m,\u001b[0m \u001b[0mpvalue\u001b[0m\u001b[1;33m,\u001b[0m \u001b[0mstderr\u001b[0m\u001b[1;33m)\u001b[0m \u001b[1;33m=\u001b[0m \u001b[0mlinregress\u001b[0m\u001b[1;33m(\u001b[0m\u001b[0mPopularity\u001b[0m\u001b[1;33m,\u001b[0m \u001b[0mBillboard_Ranking\u001b[0m\u001b[1;33m)\u001b[0m\u001b[1;33m\u001b[0m\u001b[1;33m\u001b[0m\u001b[0m\n\u001b[0m\u001b[0;32m      2\u001b[0m \u001b[0mregress_values\u001b[0m \u001b[1;33m=\u001b[0m \u001b[0mPopularity\u001b[0m \u001b[1;33m*\u001b[0m \u001b[0mslope\u001b[0m \u001b[1;33m+\u001b[0m \u001b[0mintercept\u001b[0m\u001b[1;33m\u001b[0m\u001b[1;33m\u001b[0m\u001b[0m\n\u001b[0;32m      3\u001b[0m \u001b[0mline_eq\u001b[0m \u001b[1;33m=\u001b[0m \u001b[1;34m\"y = \"\u001b[0m \u001b[1;33m+\u001b[0m \u001b[0mstr\u001b[0m\u001b[1;33m(\u001b[0m\u001b[0mround\u001b[0m\u001b[1;33m(\u001b[0m\u001b[0mslope\u001b[0m\u001b[1;33m,\u001b[0m\u001b[1;36m2\u001b[0m\u001b[1;33m)\u001b[0m\u001b[1;33m)\u001b[0m \u001b[1;33m+\u001b[0m \u001b[1;34m\"x + \"\u001b[0m \u001b[1;33m+\u001b[0m \u001b[0mstr\u001b[0m\u001b[1;33m(\u001b[0m\u001b[0mround\u001b[0m\u001b[1;33m(\u001b[0m\u001b[0mintercept\u001b[0m\u001b[1;33m,\u001b[0m\u001b[1;36m2\u001b[0m\u001b[1;33m)\u001b[0m\u001b[1;33m)\u001b[0m\u001b[1;33m\u001b[0m\u001b[1;33m\u001b[0m\u001b[0m\n\u001b[0;32m      4\u001b[0m \u001b[0mplt\u001b[0m\u001b[1;33m.\u001b[0m\u001b[0mscatter\u001b[0m\u001b[1;33m(\u001b[0m\u001b[0mPopularity\u001b[0m\u001b[1;33m,\u001b[0m\u001b[0mBillboard_Ranking\u001b[0m\u001b[1;33m)\u001b[0m\u001b[1;33m\u001b[0m\u001b[1;33m\u001b[0m\u001b[0m\n\u001b[0;32m      5\u001b[0m \u001b[0mplt\u001b[0m\u001b[1;33m.\u001b[0m\u001b[0mplot\u001b[0m\u001b[1;33m(\u001b[0m\u001b[0mPopularity\u001b[0m\u001b[1;33m,\u001b[0m\u001b[0mregress_values\u001b[0m\u001b[1;33m,\u001b[0m\u001b[1;34m\"r-\"\u001b[0m\u001b[1;33m)\u001b[0m\u001b[1;33m\u001b[0m\u001b[1;33m\u001b[0m\u001b[0m\n",
      "\u001b[1;32m~\\anaconda3\\lib\\site-packages\\scipy\\stats\\_stats_mstats_common.py\u001b[0m in \u001b[0;36mlinregress\u001b[1;34m(x, y)\u001b[0m\n\u001b[0;32m    114\u001b[0m \u001b[1;33m\u001b[0m\u001b[0m\n\u001b[0;32m    115\u001b[0m     \u001b[1;31m# average sum of squares:\u001b[0m\u001b[1;33m\u001b[0m\u001b[1;33m\u001b[0m\u001b[1;33m\u001b[0m\u001b[0m\n\u001b[1;32m--> 116\u001b[1;33m     \u001b[0mssxm\u001b[0m\u001b[1;33m,\u001b[0m \u001b[0mssxym\u001b[0m\u001b[1;33m,\u001b[0m \u001b[0mssyxm\u001b[0m\u001b[1;33m,\u001b[0m \u001b[0mssym\u001b[0m \u001b[1;33m=\u001b[0m \u001b[0mnp\u001b[0m\u001b[1;33m.\u001b[0m\u001b[0mcov\u001b[0m\u001b[1;33m(\u001b[0m\u001b[0mx\u001b[0m\u001b[1;33m,\u001b[0m \u001b[0my\u001b[0m\u001b[1;33m,\u001b[0m \u001b[0mbias\u001b[0m\u001b[1;33m=\u001b[0m\u001b[1;36m1\u001b[0m\u001b[1;33m)\u001b[0m\u001b[1;33m.\u001b[0m\u001b[0mflat\u001b[0m\u001b[1;33m\u001b[0m\u001b[1;33m\u001b[0m\u001b[0m\n\u001b[0m\u001b[0;32m    117\u001b[0m     \u001b[0mr_num\u001b[0m \u001b[1;33m=\u001b[0m \u001b[0mssxym\u001b[0m\u001b[1;33m\u001b[0m\u001b[1;33m\u001b[0m\u001b[0m\n\u001b[0;32m    118\u001b[0m     \u001b[0mr_den\u001b[0m \u001b[1;33m=\u001b[0m \u001b[0mnp\u001b[0m\u001b[1;33m.\u001b[0m\u001b[0msqrt\u001b[0m\u001b[1;33m(\u001b[0m\u001b[0mssxm\u001b[0m \u001b[1;33m*\u001b[0m \u001b[0mssym\u001b[0m\u001b[1;33m)\u001b[0m\u001b[1;33m\u001b[0m\u001b[1;33m\u001b[0m\u001b[0m\n",
      "\u001b[1;32m<__array_function__ internals>\u001b[0m in \u001b[0;36mcov\u001b[1;34m(*args, **kwargs)\u001b[0m\n",
      "\u001b[1;32m~\\anaconda3\\lib\\site-packages\\numpy\\lib\\function_base.py\u001b[0m in \u001b[0;36mcov\u001b[1;34m(m, y, rowvar, bias, ddof, fweights, aweights)\u001b[0m\n\u001b[0;32m   2429\u001b[0m             \u001b[0mw\u001b[0m \u001b[1;33m*=\u001b[0m \u001b[0maweights\u001b[0m\u001b[1;33m\u001b[0m\u001b[1;33m\u001b[0m\u001b[0m\n\u001b[0;32m   2430\u001b[0m \u001b[1;33m\u001b[0m\u001b[0m\n\u001b[1;32m-> 2431\u001b[1;33m     \u001b[0mavg\u001b[0m\u001b[1;33m,\u001b[0m \u001b[0mw_sum\u001b[0m \u001b[1;33m=\u001b[0m \u001b[0maverage\u001b[0m\u001b[1;33m(\u001b[0m\u001b[0mX\u001b[0m\u001b[1;33m,\u001b[0m \u001b[0maxis\u001b[0m\u001b[1;33m=\u001b[0m\u001b[1;36m1\u001b[0m\u001b[1;33m,\u001b[0m \u001b[0mweights\u001b[0m\u001b[1;33m=\u001b[0m\u001b[0mw\u001b[0m\u001b[1;33m,\u001b[0m \u001b[0mreturned\u001b[0m\u001b[1;33m=\u001b[0m\u001b[1;32mTrue\u001b[0m\u001b[1;33m)\u001b[0m\u001b[1;33m\u001b[0m\u001b[1;33m\u001b[0m\u001b[0m\n\u001b[0m\u001b[0;32m   2432\u001b[0m     \u001b[0mw_sum\u001b[0m \u001b[1;33m=\u001b[0m \u001b[0mw_sum\u001b[0m\u001b[1;33m[\u001b[0m\u001b[1;36m0\u001b[0m\u001b[1;33m]\u001b[0m\u001b[1;33m\u001b[0m\u001b[1;33m\u001b[0m\u001b[0m\n\u001b[0;32m   2433\u001b[0m \u001b[1;33m\u001b[0m\u001b[0m\n",
      "\u001b[1;32m<__array_function__ internals>\u001b[0m in \u001b[0;36maverage\u001b[1;34m(*args, **kwargs)\u001b[0m\n",
      "\u001b[1;32m~\\anaconda3\\lib\\site-packages\\numpy\\lib\\function_base.py\u001b[0m in \u001b[0;36maverage\u001b[1;34m(a, axis, weights, returned)\u001b[0m\n\u001b[0;32m    426\u001b[0m \u001b[1;33m\u001b[0m\u001b[0m\n\u001b[0;32m    427\u001b[0m     \u001b[1;32mif\u001b[0m \u001b[0mreturned\u001b[0m\u001b[1;33m:\u001b[0m\u001b[1;33m\u001b[0m\u001b[1;33m\u001b[0m\u001b[0m\n\u001b[1;32m--> 428\u001b[1;33m         \u001b[1;32mif\u001b[0m \u001b[0mscl\u001b[0m\u001b[1;33m.\u001b[0m\u001b[0mshape\u001b[0m \u001b[1;33m!=\u001b[0m \u001b[0mavg\u001b[0m\u001b[1;33m.\u001b[0m\u001b[0mshape\u001b[0m\u001b[1;33m:\u001b[0m\u001b[1;33m\u001b[0m\u001b[1;33m\u001b[0m\u001b[0m\n\u001b[0m\u001b[0;32m    429\u001b[0m             \u001b[0mscl\u001b[0m \u001b[1;33m=\u001b[0m \u001b[0mnp\u001b[0m\u001b[1;33m.\u001b[0m\u001b[0mbroadcast_to\u001b[0m\u001b[1;33m(\u001b[0m\u001b[0mscl\u001b[0m\u001b[1;33m,\u001b[0m \u001b[0mavg\u001b[0m\u001b[1;33m.\u001b[0m\u001b[0mshape\u001b[0m\u001b[1;33m)\u001b[0m\u001b[1;33m.\u001b[0m\u001b[0mcopy\u001b[0m\u001b[1;33m(\u001b[0m\u001b[1;33m)\u001b[0m\u001b[1;33m\u001b[0m\u001b[1;33m\u001b[0m\u001b[0m\n\u001b[0;32m    430\u001b[0m         \u001b[1;32mreturn\u001b[0m \u001b[0mavg\u001b[0m\u001b[1;33m,\u001b[0m \u001b[0mscl\u001b[0m\u001b[1;33m\u001b[0m\u001b[1;33m\u001b[0m\u001b[0m\n",
      "\u001b[1;31mAttributeError\u001b[0m: 'float' object has no attribute 'shape'"
     ]
    }
   ],
   "source": []
  },
  {
   "cell_type": "code",
   "execution_count": 37,
   "metadata": {},
   "outputs": [
    {
     "data": {
      "text/plain": [
       "<BarContainer object of 10 artists>"
      ]
     },
     "execution_count": 37,
     "metadata": {},
     "output_type": "execute_result"
    },
    {
     "data": {
      "image/png": "[encoded data removed]",
      "text/plain": [
       "<Figure size 432x288 with 1 Axes>"
      ]
     },
     "metadata": {
      "needs_background": "light"
     },
     "output_type": "display_data"
    }
   ],
   "source": []
  },
  {
   "cell_type": "code",
   "execution_count": 52,
   "metadata": {},
   "outputs": [
    {
     "data": {
      "text/html": [
       "<div>\n",
       "<style scoped>\n",
       "    .dataframe tbody tr th:only-of-type {\n",
       "        vertical-align: middle;\n",
       "    }\n",
       "\n",
       "    .dataframe tbody tr th {\n",
       "        vertical-align: top;\n",
       "    }\n",
       "\n",
       "    .dataframe thead th {\n",
       "        text-align: right;\n",
       "    }\n",
       "</style>\n",
       "<table border=\"1\" class=\"dataframe\">\n",
       "  <thead>\n",
       "    <tr style=\"text-align: right;\">\n",
       "      <th></th>\n",
       "      <th>2019_bb_rank</th>\n",
       "      <th>artist_name</th>\n",
       "      <th>name2</th>\n",
       "      <th>genres</th>\n",
       "      <th>popularity</th>\n",
       "      <th>uri_spotify</th>\n",
       "      <th>followers</th>\n",
       "    </tr>\n",
       "  </thead>\n",
       "  <tbody>\n",
       "    <tr>\n",
       "      <th>0</th>\n",
       "      <td>1</td>\n",
       "      <td>Post Malone</td>\n",
       "      <td>Post Malone</td>\n",
       "      <td>['dfw rap', 'melodic rap', 'rap']</td>\n",
       "      <td>95</td>\n",
       "      <td>spotify:artist:246dkjvS1zLTtiykXe5h60</td>\n",
       "      <td>29173640</td>\n",
       "    </tr>\n",
       "    <tr>\n",
       "      <th>1</th>\n",
       "      <td>2</td>\n",
       "      <td>Ariana Grande</td>\n",
       "      <td>Ariana Grande</td>\n",
       "      <td>['dance pop', 'pop', 'post-teen pop']</td>\n",
       "      <td>99</td>\n",
       "      <td>spotify:artist:66CXWjxzNUsdJxJ2JdwvnR</td>\n",
       "      <td>52571724</td>\n",
       "    </tr>\n",
       "    <tr>\n",
       "      <th>2</th>\n",
       "      <td>3</td>\n",
       "      <td>Billie Eilish</td>\n",
       "      <td>Billie Eilish</td>\n",
       "      <td>['electropop', 'pop']</td>\n",
       "      <td>93</td>\n",
       "      <td>spotify:artist:6qqNVTkY8uBg9cP3Jd7DAH</td>\n",
       "      <td>34697267</td>\n",
       "    </tr>\n",
       "    <tr>\n",
       "      <th>3</th>\n",
       "      <td>4</td>\n",
       "      <td>Khalid</td>\n",
       "      <td>Khalid</td>\n",
       "      <td>['alternative r&amp;b', 'pop']</td>\n",
       "      <td>93</td>\n",
       "      <td>spotify:artist:6LuN9FCkKOj5PcnpouEgny</td>\n",
       "      <td>12829933</td>\n",
       "    </tr>\n",
       "    <tr>\n",
       "      <th>4</th>\n",
       "      <td>5</td>\n",
       "      <td>Drake</td>\n",
       "      <td>Drake</td>\n",
       "      <td>['canadian hip hop', 'canadian pop', 'hip hop'...</td>\n",
       "      <td>100</td>\n",
       "      <td>spotify:artist:3TVXtAsR1Inumwj472S9r4</td>\n",
       "      <td>50593376</td>\n",
       "    </tr>\n",
       "    <tr>\n",
       "      <th>5</th>\n",
       "      <td>6</td>\n",
       "      <td>Travis Scott</td>\n",
       "      <td>Travis Scott</td>\n",
       "      <td>['rap']</td>\n",
       "      <td>96</td>\n",
       "      <td>spotify:artist:0Y5tJX1MQlPlqiwlOH1tJY</td>\n",
       "      <td>13434540</td>\n",
       "    </tr>\n",
       "    <tr>\n",
       "      <th>6</th>\n",
       "      <td>7</td>\n",
       "      <td>Ed Sheeran</td>\n",
       "      <td>Ed Sheeran</td>\n",
       "      <td>['pop', 'uk pop']</td>\n",
       "      <td>94</td>\n",
       "      <td>spotify:artist:6eUKZXaKkcviH0Ku9w2n3V</td>\n",
       "      <td>71783101</td>\n",
       "    </tr>\n",
       "    <tr>\n",
       "      <th>7</th>\n",
       "      <td>8</td>\n",
       "      <td>Taylor Swift</td>\n",
       "      <td>Taylor Swift</td>\n",
       "      <td>['dance pop', 'pop', 'pop dance', 'post-teen p...</td>\n",
       "      <td>95</td>\n",
       "      <td>spotify:artist:06HL4z0CvFAxyc27GXpf02</td>\n",
       "      <td>33485486</td>\n",
       "    </tr>\n",
       "    <tr>\n",
       "      <th>8</th>\n",
       "      <td>9</td>\n",
       "      <td>Lil Nas X</td>\n",
       "      <td>Lil Nas X</td>\n",
       "      <td>['country rap', 'lgbtq+ hip hop', 'pop rap']</td>\n",
       "      <td>79</td>\n",
       "      <td>spotify:artist:7jVv8c5Fj3E9VhNjxT4snq</td>\n",
       "      <td>3624644</td>\n",
       "    </tr>\n",
       "    <tr>\n",
       "      <th>9</th>\n",
       "      <td>10</td>\n",
       "      <td>Halsey</td>\n",
       "      <td>Halsey</td>\n",
       "      <td>['dance pop', 'electropop', 'etherpop', 'indie...</td>\n",
       "      <td>91</td>\n",
       "      <td>spotify:artist:26VFTg2z8YR0cCuwLzESi2</td>\n",
       "      <td>12622150</td>\n",
       "    </tr>\n",
       "  </tbody>\n",
       "</table>\n",
       "</div>"
      ],
      "text/plain": [
       "   2019_bb_rank    artist_name          name2  \\\n",
       "0             1    Post Malone    Post Malone   \n",
       "1             2  Ariana Grande  Ariana Grande   \n",
       "2             3  Billie Eilish  Billie Eilish   \n",
       "3             4         Khalid         Khalid   \n",
       "4             5          Drake          Drake   \n",
       "5             6   Travis Scott   Travis Scott   \n",
       "6             7     Ed Sheeran     Ed Sheeran   \n",
       "7             8   Taylor Swift   Taylor Swift   \n",
       "8             9      Lil Nas X      Lil Nas X   \n",
       "9            10         Halsey         Halsey   \n",
       "\n",
       "                                              genres popularity  \\\n",
       "0                  ['dfw rap', 'melodic rap', 'rap']         95   \n",
       "1              ['dance pop', 'pop', 'post-teen pop']         99   \n",
       "2                              ['electropop', 'pop']         93   \n",
       "3                         ['alternative r&b', 'pop']         93   \n",
       "4  ['canadian hip hop', 'canadian pop', 'hip hop'...        100   \n",
       "5                                            ['rap']         96   \n",
       "6                                  ['pop', 'uk pop']         94   \n",
       "7  ['dance pop', 'pop', 'pop dance', 'post-teen p...         95   \n",
       "8       ['country rap', 'lgbtq+ hip hop', 'pop rap']         79   \n",
       "9  ['dance pop', 'electropop', 'etherpop', 'indie...         91   \n",
       "\n",
       "                             uri_spotify followers  \n",
       "0  spotify:artist:246dkjvS1zLTtiykXe5h60  29173640  \n",
       "1  spotify:artist:66CXWjxzNUsdJxJ2JdwvnR  52571724  \n",
       "2  spotify:artist:6qqNVTkY8uBg9cP3Jd7DAH  34697267  \n",
       "3  spotify:artist:6LuN9FCkKOj5PcnpouEgny  12829933  \n",
       "4  spotify:artist:3TVXtAsR1Inumwj472S9r4  50593376  \n",
       "5  spotify:artist:0Y5tJX1MQlPlqiwlOH1tJY  13434540  \n",
       "6  spotify:artist:6eUKZXaKkcviH0Ku9w2n3V  71783101  \n",
       "7  spotify:artist:06HL4z0CvFAxyc27GXpf02  33485486  \n",
       "8  spotify:artist:7jVv8c5Fj3E9VhNjxT4snq   3624644  \n",
       "9  spotify:artist:26VFTg2z8YR0cCuwLzESi2  12622150  "
      ]
     },
     "execution_count": 52,
     "metadata": {},
     "output_type": "execute_result"
    }
   ],
   "source": [
    "test_df.head(10)"
   ]
  },
  {
   "cell_type": "code",
   "execution_count": 39,
   "metadata": {
    "scrolled": true
   },
   "outputs": [
    {
     "ename": "TypeError",
     "evalue": "bar() missing 1 required positional argument: 'height'",
     "output_type": "error",
     "traceback": [
      "\u001b[1;31m---------------------------------------------------------------------------\u001b[0m",
      "\u001b[1;31mTypeError\u001b[0m                                 Traceback (most recent call last)",
      "\u001b[1;32m<ipython-input-39-003957ef55fa>\u001b[0m in \u001b[0;36m<module>\u001b[1;34m\u001b[0m\n\u001b[0;32m      3\u001b[0m \u001b[0mplt\u001b[0m\u001b[1;33m.\u001b[0m\u001b[0mylabel\u001b[0m\u001b[1;33m(\u001b[0m\u001b[1;34m\"# of Followers on Spotify\"\u001b[0m\u001b[1;33m)\u001b[0m\u001b[1;33m\u001b[0m\u001b[1;33m\u001b[0m\u001b[0m\n\u001b[0;32m      4\u001b[0m \u001b[0mx_axis\u001b[0m \u001b[1;33m=\u001b[0m \u001b[0mtest_df\u001b[0m\u001b[1;33m.\u001b[0m\u001b[0miloc\u001b[0m\u001b[1;33m[\u001b[0m\u001b[1;36m0\u001b[0m\u001b[1;33m:\u001b[0m\u001b[1;36m10\u001b[0m\u001b[1;33m,\u001b[0m\u001b[1;36m1\u001b[0m\u001b[1;33m]\u001b[0m\u001b[1;33m\u001b[0m\u001b[1;33m\u001b[0m\u001b[0m\n\u001b[1;32m----> 5\u001b[1;33m \u001b[0mplt\u001b[0m\u001b[1;33m.\u001b[0m\u001b[0mbar\u001b[0m\u001b[1;33m(\u001b[0m\u001b[0mx_axis\u001b[0m\u001b[1;33m,\u001b[0m \u001b[0mcolor\u001b[0m\u001b[1;33m=\u001b[0m\u001b[1;34m'r'\u001b[0m\u001b[1;33m,\u001b[0m \u001b[0malpha\u001b[0m\u001b[1;33m=\u001b[0m\u001b[1;36m0.1\u001b[0m\u001b[1;33m,\u001b[0m \u001b[0malign\u001b[0m\u001b[1;33m=\u001b[0m\u001b[1;34m\"center\"\u001b[0m\u001b[1;33m)\u001b[0m\u001b[1;33m\u001b[0m\u001b[1;33m\u001b[0m\u001b[0m\n\u001b[0m",
      "\u001b[1;31mTypeError\u001b[0m: bar() missing 1 required positional argument: 'height'"
     ]
    },
    {
     "data": {
      "image/png": "[encoded data removed]",
      "text/plain": [
       "<Figure size 432x288 with 1 Axes>"
      ]
     },
     "metadata": {
      "needs_background": "light"
     },
     "output_type": "display_data"
    }
   ],
   "source": [
    "plt.title(\"BillBoard Top 10 Artists vs # of Followers\")\n",
    "plt.xlabel(\"Artist\")\n",
    "plt.ylabel(\"# of Followers on Spotify\")\n",
    "x_axis = test_df.iloc[0:10,1]"
   ]
  },
  {
   "cell_type": "code",
   "execution_count": 41,
   "metadata": {
    "scrolled": true
   },
   "outputs": [
    {
     "data": {
      "text/plain": [
       "([0, 1, 2, 3, 4, 5, 6, 7, 8, 9], <a list of 10 Text major ticklabel objects>)"
      ]
     },
     "execution_count": 41,
     "metadata": {},
     "output_type": "execute_result"
    },
    {
     "data": {
      "image/png": "[encoded data removed]",
      "text/plain": [
       "<Figure size 720x720 with 1 Axes>"
      ]
     },
     "metadata": {
      "needs_background": "light"
     },
     "output_type": "display_data"
    }
   ],
   "source": []
  },
  {
   "cell_type": "code",
   "execution_count": 42,
   "metadata": {},
   "outputs": [
    {
     "data": {
      "text/plain": [
       "0      Post Malone\n",
       "1    Ariana Grande\n",
       "2    Billie Eilish\n",
       "3           Khalid\n",
       "4            Drake\n",
       "5     Travis Scott\n",
       "6       Ed Sheeran\n",
       "7     Taylor Swift\n",
       "8        Lil Nas X\n",
       "9           Halsey\n",
       "Name: artist_name, dtype: object"
      ]
     },
     "execution_count": 42,
     "metadata": {},
     "output_type": "execute_result"
    }
   ],
   "source": [
    "x_axis = ('Post Malone', 'Ariana Grande', 'Billie Eilish', 'Khalid', 'Drake', 'Travis Scott', 'Ed Sheeran', 'Taylor Swift', \"Lil Nas X', 'Halsey')\n",
    "          \n"
   ]
  },
  {
   "cell_type": "code",
   "execution_count": 47,
   "metadata": {},
   "outputs": [
    {
     "data": {
      "text/plain": [
       "0    29173640\n",
       "1    52571724\n",
       "2    34697267\n",
       "3    12829933\n",
       "4    50593376\n",
       "5    13434540\n",
       "6    71783101\n",
       "7    33485486\n",
       "8     3624644\n",
       "9    12622150\n",
       "Name: followers, dtype: int32"
      ]
     },
     "execution_count": 47,
     "metadata": {},
     "output_type": "execute_result"
    }
   ],
   "source": [
    "y_axis.astype(int)"
   ]
  },
  {
   "cell_type": "code",
   "execution_count": null,
   "metadata": {},
   "outputs": [],
   "source": []
  },
  {
   "cell_type": "code",
   "execution_count": null,
   "metadata": {},
   "outputs": [],
   "source": []
  }
 ],
 "metadata": {
  "kernelspec": {
   "display_name": "Python 3",
   "language": "python",
   "name": "python3"
  },
  "language_info": {
   "codemirror_mode": {
    "name": "ipython",
    "version": 3
   },
   "file_extension": ".py",
   "mimetype": "text/x-python",
   "name": "python",
   "nbconvert_exporter": "python",
   "pygments_lexer": "ipython3",
   "version": "3.8.3"
  }
 },
 "nbformat": 4,
 "nbformat_minor": 4
}
